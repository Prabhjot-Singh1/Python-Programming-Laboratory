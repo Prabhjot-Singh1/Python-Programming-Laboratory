{
 "cells": [
  {
   "cell_type": "code",
   "execution_count": null,
   "id": "a5402626",
   "metadata": {},
   "outputs": [
    {
     "name": "stdout",
     "output_type": "stream",
     "text": [
      "Original list: [(2, 5), (1, 2), (4, 4), (2, 3), (2, 1)]\n",
      "Sorted list: [(2, 1), (1, 2), (2, 3), (4, 4), (2, 5)]\n"
     ]
    }
   ],
   "source": [
    "\n",
    "sample_list = [(2, 5), (1, 2), (4, 4), (2, 3), (2, 1)]\n",
    "\n",
    "\n",
    "sorted_list = sorted(sample_list, key=lambda x: x[-1])\n",
    "\n",
    "print(\"Original list:\", sample_list)\n",
    "print(\"Sorted list:\", sorted_list)\n"
   ]
  }
 ],
 "metadata": {
  "kernelspec": {
   "display_name": "base",
   "language": "python",
   "name": "python3"
  },
  "language_info": {
   "codemirror_mode": {
    "name": "ipython",
    "version": 3
   },
   "file_extension": ".py",
   "mimetype": "text/x-python",
   "name": "python",
   "nbconvert_exporter": "python",
   "pygments_lexer": "ipython3",
   "version": "3.8.3"
  }
 },
 "nbformat": 4,
 "nbformat_minor": 5
}
