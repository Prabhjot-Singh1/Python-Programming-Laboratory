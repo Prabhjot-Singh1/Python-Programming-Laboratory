{
 "cells": [
  {
   "cell_type": "code",
   "execution_count": null,
   "id": "43e5f525",
   "metadata": {},
   "outputs": [],
   "source": [
    "def not_poor_replace(s):\n",
    "    not_pos = s.find('not')\n",
    "    poor_pos = s.find('poor')\n",
    "\n",
    "    # Check if both words are found and 'poor' comes after 'not'\n",
    "    if not_pos != -1 and poor_pos != -1 and poor_pos > not_pos:\n",
    "        # Replace 'not...poor' with 'good'\n",
    "        s = s[:not_pos] + 'good' + s[poor_pos + len('poor'):]\n",
    "    return s\n",
    "\n",
    "\n",
    "# Sample\n",
    "sample_str = 'The lyrics is not that poor!'\n",
    "print(\"Original:\", sample_str)\n",
    "print(\"Modified:\", not_poor_replace(sample_str))\n"
   ]
  }
 ],
 "metadata": {
  "language_info": {
   "name": "python"
  }
 },
 "nbformat": 4,
 "nbformat_minor": 5
}
