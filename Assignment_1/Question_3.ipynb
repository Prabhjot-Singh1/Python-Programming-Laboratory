{
 "cells": [
  {
   "cell_type": "code",
   "execution_count": null,
   "id": "43e5f525",
   "metadata": {},
   "outputs": [
    {
     "name": "stdout",
     "output_type": "stream",
     "text": [
      "Original: The lyrics is not that poor!\n",
      "Modified: The lyrics is good!\n"
     ]
    }
   ],
   "source": [
    "def not_poor_replace(s):\n",
    "    not_pos = s.find('not')\n",
    "    poor_pos = s.find('poor')\n",
    "\n",
    "\n",
    "    if not_pos != -1 and poor_pos != -1 and poor_pos > not_pos:\n",
    "\n",
    "        s = s[:not_pos] + 'good' + s[poor_pos + len('poor'):]\n",
    "    return s\n",
    "\n",
    "\n",
    "\n",
    "sample_str = 'The lyrics is not that poor!'\n",
    "print(\"Original:\", sample_str)\n",
    "\n",
    "print(\"Modified:\", not_poor_replace(sample_str))\n"
   ]
  }
 ],
 "metadata": {
  "kernelspec": {
   "display_name": "base",
   "language": "python",
   "name": "python3"
  },
  "language_info": {
   "codemirror_mode": {
    "name": "ipython",
    "version": 3
   },
   "file_extension": ".py",
   "mimetype": "text/x-python",
   "name": "python",
   "nbconvert_exporter": "python",
   "pygments_lexer": "ipython3",
   "version": "3.8.3"
  }
 },
 "nbformat": 4,
 "nbformat_minor": 5
}
