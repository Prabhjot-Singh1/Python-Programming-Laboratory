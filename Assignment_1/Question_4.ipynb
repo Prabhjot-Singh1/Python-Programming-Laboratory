{
 "cells": [
  {
   "cell_type": "code",
   "execution_count": null,
   "id": "e6361554",
   "metadata": {},
   "outputs": [],
   "source": [
    "# Sample dictionary\n",
    "my_dict = {'apple': 10, 'banana': 2, 'cherry': 5, 'date': 7}\n",
    "\n",
    "# Sort dictionary by values\n",
    "sorted_dict = dict(sorted(my_dict.items(), key=lambda x: x[1]))\n",
    "\n",
    "print(\"Original dictionary:\", my_dict)\n",
    "print(\"Dictionary sorted by value:\", sorted_dict)\n"
   ]
  }
 ],
 "metadata": {
  "language_info": {
   "name": "python"
  }
 },
 "nbformat": 4,
 "nbformat_minor": 5
}
