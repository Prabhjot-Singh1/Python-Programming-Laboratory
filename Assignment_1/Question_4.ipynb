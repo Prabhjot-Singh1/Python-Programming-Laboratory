{
 "cells": [
  {
   "cell_type": "code",
   "execution_count": 1,
   "id": "e6361554",
   "metadata": {},
   "outputs": [
    {
     "name": "stdout",
     "output_type": "stream",
     "text": [
      "Original dictionary: {'apple': 10, 'banana': 2, 'cherry': 5, 'date': 7}\n",
      "Dictionary sorted by value: {'banana': 2, 'cherry': 5, 'date': 7, 'apple': 10}\n"
     ]
    }
   ],
   "source": [
    "\n",
    "my_dict = {'apple': 10, 'banana': 2, 'cherry': 5, 'date': 7}\n",
    "\n",
    "\n",
    "sorted_dict = dict(sorted(my_dict.items(), key=lambda x: x[1]))\n",
    "\n",
    "print(\"Original dictionary:\", my_dict)\n",
    "print(\"Dictionary sorted by value:\", sorted_dict)\n"
   ]
  }
 ],
 "metadata": {
  "kernelspec": {
   "display_name": "base",
   "language": "python",
   "name": "python3"
  },
  "language_info": {
   "codemirror_mode": {
    "name": "ipython",
    "version": 3
   },
   "file_extension": ".py",
   "mimetype": "text/x-python",
   "name": "python",
   "nbconvert_exporter": "python",
   "pygments_lexer": "ipython3",
   "version": "3.8.3"
  }
 },
 "nbformat": 4,
 "nbformat_minor": 5
}
