{
 "cells": [
  {
   "cell_type": "code",
   "execution_count": null,
   "id": "c3448d94",
   "metadata": {},
   "outputs": [],
   "source": [
    "def replace_char(s):\n",
    "    first_char = s[0]   # take the first character\n",
    "    # replace all future occurrences with '$'\n",
    "    result = first_char + s[1:].replace(first_char, '$')\n",
    "    return result\n",
    "\n",
    "# Sample test\n",
    "sample_str = \"restart\"\n",
    "print(\"Original string:\", sample_str)\n",
    "print(\"Modified string:\", replace_char(sample_str))\n"
   ]
  }
 ],
 "metadata": {
  "language_info": {
   "name": "python"
  }
 },
 "nbformat": 4,
 "nbformat_minor": 5
}
