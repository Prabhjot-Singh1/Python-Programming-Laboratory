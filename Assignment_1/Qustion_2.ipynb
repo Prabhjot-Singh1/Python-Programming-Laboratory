{
 "cells": [
  {
   "cell_type": "code",
   "execution_count": 1,
   "id": "c3448d94",
   "metadata": {},
   "outputs": [
    {
     "name": "stdout",
     "output_type": "stream",
     "text": [
      "Original string: restart\n",
      "Modified string: resta$t\n"
     ]
    }
   ],
   "source": [
    "def replace_char(s):\n",
    "    first_char = s[0]   \n",
    "   \n",
    "    result = first_char + s[1:].replace(first_char, '$')\n",
    "    return result\n",
    "\n",
    "\n",
    "sample_str = \"restart\"\n",
    "print(\"Original string:\", sample_str)\n",
    "print(\"Modified string:\", replace_char(sample_str))\n"
   ]
  }
 ],
 "metadata": {
  "kernelspec": {
   "display_name": "base",
   "language": "python",
   "name": "python3"
  },
  "language_info": {
   "codemirror_mode": {
    "name": "ipython",
    "version": 3
   },
   "file_extension": ".py",
   "mimetype": "text/x-python",
   "name": "python",
   "nbconvert_exporter": "python",
   "pygments_lexer": "ipython3",
   "version": "3.8.3"
  }
 },
 "nbformat": 4,
 "nbformat_minor": 5
}
