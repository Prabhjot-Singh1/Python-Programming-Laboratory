{
 "cells": [
  {
   "cell_type": "code",
   "execution_count": null,
   "id": "a456757c",
   "metadata": {},
   "outputs": [],
   "source": [
    "# Sample dictionary\n",
    "my_dict = {'name': 'Alice', 'age': 25}\n",
    "\n",
    "# Add new key-value pair\n",
    "my_dict['city'] = 'New York'\n",
    "\n",
    "print(\"Updated dictionary:\", my_dict)\n"
   ]
  }
 ],
 "metadata": {
  "language_info": {
   "name": "python"
  }
 },
 "nbformat": 4,
 "nbformat_minor": 5
}
