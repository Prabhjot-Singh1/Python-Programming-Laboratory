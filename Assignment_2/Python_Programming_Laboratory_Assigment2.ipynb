{
  "nbformat": 4,
  "nbformat_minor": 0,
  "metadata": {
    "colab": {
      "provenance": []
    },
    "kernelspec": {
      "name": "python3",
      "display_name": "Python 3"
    },
    "language_info": {
      "name": "python"
    }
  },
  "cells": [
    {
      "cell_type": "markdown",
      "source": [
        "***Name : Prabhjot Singh***\n",
        "\n",
        "***Roll no : 25901343***\n",
        "\n",
        "***Branch- MTECH AI***\n",
        "\n",
        "***Github Link- https://github.com/Prabhjot-Singh1/Python-Programming-Laboratory/tree/main/Assignment_2***\n",
        "\n",
        "***AI-523 Python Programming Laboratory\n",
        "Assignment 2***"
      ],
      "metadata": {
        "id": "o9YOQPBw97LE"
      }
    },
    {
      "cell_type": "markdown",
      "source": [
        "\n",
        "Program to check if a number is positive, negative, or zero"
      ],
      "metadata": {
        "id": "6poDjJzjAeFc"
      }
    },
    {
      "cell_type": "code",
      "execution_count": 1,
      "metadata": {
        "colab": {
          "base_uri": "https://localhost:8080/",
          "height": 0
        },
        "id": "j9tva1iL8Csq",
        "outputId": "aec4c498-56a0-47e3-9fa2-e000f8e434c7"
      },
      "outputs": [
        {
          "output_type": "stream",
          "name": "stdout",
          "text": [
            "Enter a number: 5\n",
            "The number is positive.\n"
          ]
        }
      ],
      "source": [
        "\n",
        "\n",
        "# Get input from the user\n",
        "num = float(input(\"Enter a number: \"))\n",
        "\n",
        "# Check the condition and display result\n",
        "if num > 0:\n",
        "    print(\"The number is positive.\")\n",
        "elif num < 0:\n",
        "    print(\"The number is negative.\")\n",
        "else:\n",
        "    print(\"The number is zero.\")\n"
      ]
    },
    {
      "cell_type": "markdown",
      "source": [
        " Program to check if an integer is even or odd"
      ],
      "metadata": {
        "id": "92AK_0RkAsDj"
      }
    },
    {
      "cell_type": "code",
      "source": [
        "\n",
        "\n",
        "# Get input from the user\n",
        "num = int(input(\"Enter an integer: \"))\n",
        "\n",
        "# Check if the number is even or odd using modulo operator\n",
        "if num % 2 == 0:\n",
        "    print(\"The number is even.\")\n",
        "else:\n",
        "    print(\"The number is odd.\")\n"
      ],
      "metadata": {
        "id": "qXS3xrQ88Z0w",
        "colab": {
          "base_uri": "https://localhost:8080/",
          "height": 0
        },
        "outputId": "609de5a8-d990-404f-c314-d8f5032a96a0"
      },
      "execution_count": 2,
      "outputs": [
        {
          "output_type": "stream",
          "name": "stdout",
          "text": [
            "Enter an integer: 4\n",
            "The number is even.\n"
          ]
        }
      ]
    },
    {
      "cell_type": "markdown",
      "source": [
        "Program to find the larger of two numbers"
      ],
      "metadata": {
        "id": "wjSFNUXXA0PN"
      }
    },
    {
      "cell_type": "code",
      "source": [
        "\n",
        "\n",
        "# Get input from the user\n",
        "num1 = float(input(\"Enter the first number: \"))\n",
        "num2 = float(input(\"Enter the second number: \"))\n",
        "\n",
        "# Compare the two numbers\n",
        "if num1 > num2:\n",
        "    print(f\"The first number ({num1}) is larger.\")\n",
        "elif num2 > num1:\n",
        "    print(f\"The second number ({num2}) is larger.\")\n",
        "else:\n",
        "    print(\"Both numbers are equal.\")\n"
      ],
      "metadata": {
        "id": "gHnF0y6Z8ja8",
        "colab": {
          "base_uri": "https://localhost:8080/",
          "height": 0
        },
        "outputId": "aa95fe93-82be-4e4b-ab10-6271147ebc72"
      },
      "execution_count": 3,
      "outputs": [
        {
          "output_type": "stream",
          "name": "stdout",
          "text": [
            "Enter the first number: 20\n",
            "Enter the second number: 30\n",
            "The second number (30.0) is larger.\n"
          ]
        }
      ]
    },
    {
      "cell_type": "markdown",
      "source": [
        "Program to find the absolute value of a number without using abs()"
      ],
      "metadata": {
        "id": "KOlEOVrGA33e"
      }
    },
    {
      "cell_type": "code",
      "source": [
        "\n",
        "\n",
        "# Get input from the user\n",
        "num = float(input(\"Enter a number: \"))\n",
        "\n",
        "# Check if the number is negative\n",
        "if num < 0:\n",
        "    absolute_value = -num  # Convert negative to positive\n",
        "else:\n",
        "    absolute_value = num   # If already positive or zero, leave it\n",
        "\n",
        "# Display the result\n",
        "print(f\"The absolute value is: {absolute_value}\")\n"
      ],
      "metadata": {
        "id": "ouZBqU1k8rMb",
        "colab": {
          "base_uri": "https://localhost:8080/",
          "height": 0
        },
        "outputId": "adf2da7f-a332-4d4d-e698-3ccbe1573b94"
      },
      "execution_count": 4,
      "outputs": [
        {
          "output_type": "stream",
          "name": "stdout",
          "text": [
            "Enter a number: -78\n",
            "The absolute value is: 78.0\n"
          ]
        }
      ]
    },
    {
      "cell_type": "markdown",
      "source": [
        "Program to check voting eligibility"
      ],
      "metadata": {
        "id": "ptEyt_DcBAaf"
      }
    },
    {
      "cell_type": "code",
      "source": [
        "\n",
        "\n",
        "# Get the person's age as input\n",
        "age = int(input(\"Enter your age: \"))\n",
        "\n",
        "# Check if age is 18 or above\n",
        "if age >= 18:\n",
        "    print(\"You are eligible to vote.\")\n",
        "else:\n",
        "    print(\"You are not eligible to vote yet.\")\n"
      ],
      "metadata": {
        "id": "UIh4Em0S84_5",
        "colab": {
          "base_uri": "https://localhost:8080/",
          "height": 0
        },
        "outputId": "633f6dc9-feab-40cf-819d-a2db03c472c7"
      },
      "execution_count": 5,
      "outputs": [
        {
          "output_type": "stream",
          "name": "stdout",
          "text": [
            "Enter your age: 17\n",
            "You are not eligible to vote yet.\n"
          ]
        }
      ]
    },
    {
      "cell_type": "markdown",
      "source": [
        "Program to check if a year is a leap year"
      ],
      "metadata": {
        "id": "sGOhvLprBDzd"
      }
    },
    {
      "cell_type": "code",
      "source": [
        "\n",
        "\n",
        "# Get year input from user\n",
        "year = int(input(\"Enter a year: \"))\n",
        "\n",
        "# Check leap year conditions\n",
        "if (year % 4 == 0) and (year % 100 != 0 or year % 400 == 0):\n",
        "    print(f\"{year} is a leap year.\")\n",
        "else:\n",
        "    print(f\"{year} is not a leap year.\")\n"
      ],
      "metadata": {
        "id": "dRN-x3qs9H42",
        "colab": {
          "base_uri": "https://localhost:8080/",
          "height": 0
        },
        "outputId": "1ad97218-f880-42c9-dfec-9253b9a2ea23"
      },
      "execution_count": 6,
      "outputs": [
        {
          "output_type": "stream",
          "name": "stdout",
          "text": [
            "Enter a year: 16\n",
            "16 is a leap year.\n"
          ]
        }
      ]
    },
    {
      "cell_type": "markdown",
      "source": [
        "Program to check pass or fail based on marks"
      ],
      "metadata": {
        "id": "E8l6j1aABHRy"
      }
    },
    {
      "cell_type": "code",
      "source": [
        "# Get marks from the user\n",
        "marks = float(input(\"Enter your marks: \"))\n",
        "\n",
        "# Check if marks are 40 or above\n",
        "if marks >= 40:\n",
        "    print(\"Pass\")\n",
        "else:\n",
        "    print(\"Fail\")\n"
      ],
      "metadata": {
        "id": "9Ckkcm0L9Sr2",
        "colab": {
          "base_uri": "https://localhost:8080/",
          "height": 0
        },
        "outputId": "77330a7b-2629-4d13-eac1-0095827853ac"
      },
      "execution_count": 7,
      "outputs": [
        {
          "output_type": "stream",
          "name": "stdout",
          "text": [
            "Enter your marks: 50\n",
            "Pass\n"
          ]
        }
      ]
    },
    {
      "cell_type": "markdown",
      "source": [
        "Program to check if a number is a multiple of 5"
      ],
      "metadata": {
        "id": "TU9OEfhCBNe1"
      }
    },
    {
      "cell_type": "code",
      "source": [
        "# Get input from the user\n",
        "num = int(input(\"Enter a number: \"))\n",
        "\n",
        "# Check if the number is divisible by 5\n",
        "if num % 5 == 0:\n",
        "    print(f\"{num} is a multiple of 5.\")\n",
        "else:\n",
        "    print(f\"{num} is not a multiple of 5.\")\n"
      ],
      "metadata": {
        "id": "bue3-pnM9ZCC",
        "colab": {
          "base_uri": "https://localhost:8080/",
          "height": 0
        },
        "outputId": "4794f288-9f6d-427d-cc52-63c77568b03e"
      },
      "execution_count": 8,
      "outputs": [
        {
          "output_type": "stream",
          "name": "stdout",
          "text": [
            "Enter a number: 25\n",
            "25 is a multiple of 5.\n"
          ]
        }
      ]
    },
    {
      "cell_type": "markdown",
      "source": [
        " Program to check if a character is uppercase, lowercase, or not a letter"
      ],
      "metadata": {
        "id": "xYFrwOPmBVtq"
      }
    },
    {
      "cell_type": "code",
      "source": [
        "# Get a single character from the user\n",
        "char = input(\"Enter a single character: \")\n",
        "\n",
        "# Check if exactly one character was entered\n",
        "if len(char) != 1:\n",
        "    print(\"Please enter exactly one character.\")\n",
        "else:\n",
        "    if 'A' <= char <= 'Z':\n",
        "        print(\"It is an uppercase letter.\")\n",
        "    elif 'a' <= char <= 'z':\n",
        "        print(\"It is a lowercase letter.\")\n",
        "    else:\n",
        "        print(\"It is not a letter.\")\n"
      ],
      "metadata": {
        "id": "I_Kxr5IK9hOJ",
        "colab": {
          "base_uri": "https://localhost:8080/",
          "height": 0
        },
        "outputId": "c0a2aaee-5fe1-4330-8616-78616e61487f"
      },
      "execution_count": 9,
      "outputs": [
        {
          "output_type": "stream",
          "name": "stdout",
          "text": [
            "Enter a single character: a\n",
            "It is a lowercase letter.\n"
          ]
        }
      ]
    },
    {
      "cell_type": "markdown",
      "source": [
        "Program to calculate discount and final bill amount"
      ],
      "metadata": {
        "id": "wIL38tMzBbN9"
      }
    },
    {
      "cell_type": "code",
      "source": [
        "# Get purchase amount from user\n",
        "purchase_amount = float(input(\"Enter the purchase amount: \"))\n",
        "\n",
        "# Initialize discount\n",
        "discount = 0\n",
        "\n",
        "# Apply discount if applicable\n",
        "if purchase_amount >= 1000:\n",
        "    discount = 0.10 * purchase_amount\n",
        "\n",
        "# Calculate final amount\n",
        "final_amount = purchase_amount - discount\n",
        "\n",
        "# Display the result\n",
        "print(f\"Discount applied: {discount:.2f}\")\n",
        "print(f\"Final bill amount: {final_amount:.2f}\")\n"
      ],
      "metadata": {
        "id": "Y4XR58759r3S",
        "colab": {
          "base_uri": "https://localhost:8080/",
          "height": 0
        },
        "outputId": "387f1163-ad33-4469-c59e-a91ba4978904"
      },
      "execution_count": 10,
      "outputs": [
        {
          "output_type": "stream",
          "name": "stdout",
          "text": [
            "Enter the purchase amount: 20000\n",
            "Discount applied: 2000.00\n",
            "Final bill amount: 18000.00\n"
          ]
        }
      ]
    }
  ]
}