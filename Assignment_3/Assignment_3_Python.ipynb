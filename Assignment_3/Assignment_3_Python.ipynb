{
  "nbformat": 4,
  "nbformat_minor": 0,
  "metadata": {
    "colab": {
      "provenance": []
    },
    "kernelspec": {
      "name": "python3",
      "display_name": "Python 3"
    },
    "language_info": {
      "name": "python"
    }
  },
  "cells": [
    {
      "cell_type": "markdown",
      "source": [
        "<!-- Helo -->"
      ],
      "metadata": {
        "id": "ZZS23Yziw6ca"
      }
    },
    {
      "cell_type": "markdown",
      "source": [
        "Name : Prabhjot Singh\n",
        "\n",
        "Roll no : 25901343\n",
        "\n",
        "Branch- MTECH AI\n",
        "\n",
        "Github Link- https://github.com/Prabhjot-Singh1/Python-Programming-Laboratory/tree/main/Assignment_3\n",
        "\n",
        "AI-523 Python Programming Laboratory Assignment 3"
      ],
      "metadata": {
        "id": "OheVcX30xS35"
      }
    },
    {
      "cell_type": "markdown",
      "source": [
        "Q1) Generate all prime numbers less than 100.Print them in a spiral format (like a clockwise\n",
        "square spiral) of minimal size that fits all primes."
      ],
      "metadata": {
        "id": "T351bcvIwaIJ"
      }
    },
    {
      "cell_type": "code",
      "execution_count": 1,
      "metadata": {
        "colab": {
          "base_uri": "https://localhost:8080/",
          "height": 0
        },
        "id": "C1Jvx_qCwSaG",
        "outputId": "d37b424f-7c92-44e6-8ba6-061c1d7e7c94"
      },
      "outputs": [
        {
          "output_type": "stream",
          "name": "stdout",
          "text": [
            "Spiral of primes < 100:\n",
            " 2  3  5  7 11\n",
            "53 59 61 67 13\n",
            "47 89 97 71 17\n",
            "43 83 79 73 19\n",
            "41 37 31 29 23\n"
          ]
        }
      ],
      "source": [
        "import math\n",
        "\n",
        "# Function to check prime\n",
        "def is_prime(n):\n",
        "    if n < 2:\n",
        "        return False\n",
        "    for i in range(2, int(math.sqrt(n)) + 1):\n",
        "        if n % i == 0:\n",
        "            return False\n",
        "    return True\n",
        "\n",
        "# Generate primes < 100\n",
        "primes = [i for i in range(100) if is_prime(i)]\n",
        "n = len(primes)\n",
        "\n",
        "# Find minimal square size\n",
        "size = math.ceil(math.sqrt(n))\n",
        "spiral = [[0] * size for _ in range(size)]\n",
        "\n",
        "# Spiral fill\n",
        "top, left = 0, 0\n",
        "bottom, right = size - 1, size - 1\n",
        "index = 0\n",
        "\n",
        "while index < n and top <= bottom and left <= right:\n",
        "    for j in range(left, right + 1):  # left → right\n",
        "        if index < n:\n",
        "            spiral[top][j] = primes[index]\n",
        "            index += 1\n",
        "    top += 1\n",
        "\n",
        "    for i in range(top, bottom + 1):  # top → bottom\n",
        "        if index < n:\n",
        "            spiral[i][right] = primes[index]\n",
        "            index += 1\n",
        "    right -= 1\n",
        "\n",
        "    for j in range(right, left - 1, -1):  # right → left\n",
        "        if index < n:\n",
        "            spiral[bottom][j] = primes[index]\n",
        "            index += 1\n",
        "    bottom -= 1\n",
        "\n",
        "    for i in range(bottom, top - 1, -1):  # bottom → top\n",
        "        if index < n:\n",
        "            spiral[i][left] = primes[index]\n",
        "            index += 1\n",
        "    left += 1\n",
        "\n",
        "print(\"Spiral of primes < 100:\")\n",
        "for row in spiral:\n",
        "    print(\" \".join(f\"{x:2d}\" if x != 0 else \" .\" for x in row))\n"
      ]
    },
    {
      "cell_type": "markdown",
      "source": [
        "Q2) You are a data analyst at a streaming platform, managing user interactions, analytics,\n",
        "and daily operations. Use a for loop to create a text-based graph of hourly views. For\n",
        "example, use * to represent every 5 views."
      ],
      "metadata": {
        "id": "zcb4h5qSwhzf"
      }
    },
    {
      "cell_type": "code",
      "source": [
        "# Example hourly views (24 hours)\n",
        "hourly_views = [10, 25, 40, 12, 50, 5, 0, 15, 30, 20, 45, 60,\n",
        "                10, 15, 25, 35, 40, 20, 10, 5, 0, 10, 15, 20]\n",
        "\n",
        "print(\"\\nHourly Views Graph (* = 5 views):\")\n",
        "for i in range(len(hourly_views)):\n",
        "    views = hourly_views[i]\n",
        "    stars = \"*\" * (views // 5)\n",
        "    print(f\"{i:02d}: {stars}\")\n"
      ],
      "metadata": {
        "colab": {
          "base_uri": "https://localhost:8080/",
          "height": 0
        },
        "id": "V-cTQPyLwV-I",
        "outputId": "b83571c4-1f5d-4fec-9d5e-2764e04cfb61"
      },
      "execution_count": 2,
      "outputs": [
        {
          "output_type": "stream",
          "name": "stdout",
          "text": [
            "\n",
            "Hourly Views Graph (* = 5 views):\n",
            "00: **\n",
            "01: *****\n",
            "02: ********\n",
            "03: **\n",
            "04: **********\n",
            "05: *\n",
            "06: \n",
            "07: ***\n",
            "08: ******\n",
            "09: ****\n",
            "10: *********\n",
            "11: ************\n",
            "12: **\n",
            "13: ***\n",
            "14: *****\n",
            "15: *******\n",
            "16: ********\n",
            "17: ****\n",
            "18: **\n",
            "19: *\n",
            "20: \n",
            "21: **\n",
            "22: ***\n",
            "23: ****\n"
          ]
        }
      ]
    },
    {
      "cell_type": "markdown",
      "source": [
        "Q3) Each video watched generates revenue based on ad impressions:\n",
        " First 10 views: $0.50 per view\n",
        " Next 20 views: $0.30 per view\n",
        " Remaining views: $0.10 per view\n",
        "You are given hourly views for the day. Calculate total daily revenue."
      ],
      "metadata": {
        "id": "OvanVbm_wlR9"
      }
    },
    {
      "cell_type": "code",
      "source": [
        "\n",
        "hourly_views = [10, 25, 40, 12, 50, 5, 0, 15, 30, 20, 45, 60,\n",
        "                10, 15, 25, 35, 40, 20, 10, 5, 0, 10, 15, 20]\n",
        "\n",
        "print(\"\\nHourly Views Graph (* = 5 views):\")\n",
        "for i in range(len(hourly_views)):\n",
        "    views = hourly_views[i]\n",
        "    stars = \"*\" * (views // 5)\n",
        "    print(f\"{i:02d}: {stars}\")\n",
        "\n",
        ""
      ],
      "metadata": {
        "colab": {
          "base_uri": "https://localhost:8080/",
          "height": 0
        },
        "id": "nfBdrYmywYpO",
        "outputId": "79daf858-b001-41c4-ec36-7b9173345ab6"
      },
      "execution_count": 3,
      "outputs": [
        {
          "output_type": "stream",
          "name": "stdout",
          "text": [
            "\n",
            "Hourly Views Graph (* = 5 views):\n",
            "00: **\n",
            "01: *****\n",
            "02: ********\n",
            "03: **\n",
            "04: **********\n",
            "05: *\n",
            "06: \n",
            "07: ***\n",
            "08: ******\n",
            "09: ****\n",
            "10: *********\n",
            "11: ************\n",
            "12: **\n",
            "13: ***\n",
            "14: *****\n",
            "15: *******\n",
            "16: ********\n",
            "17: ****\n",
            "18: **\n",
            "19: *\n",
            "20: \n",
            "21: **\n",
            "22: ***\n",
            "23: ****\n"
          ]
        }
      ]
    },
    {
      "cell_type": "code",
      "source": [],
      "metadata": {
        "id": "A8AqiguWx3DY"
      },
      "execution_count": null,
      "outputs": []
    }
  ]
}